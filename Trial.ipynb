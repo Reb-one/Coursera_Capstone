{
    "cells": [
        {
            "cell_type": "markdown",
            "metadata": {
                "collapsed": true
            },
            "source": "## A Dashboard of the Popular Establishments In South Africa\u2019s Three Capital Cities\n\n### Applied Data Science Specialization: Capstone Project, Week 5"
        },
        {
            "cell_type": "markdown",
            "metadata": {
                "collapsed": true
            },
            "source": "## Table of Contents\n1. [Introduction/Business Problem](#intro)\n2. [Data](#data)\n3. [Methodology](#methodology)\n4. [Analysis](#analysis)\n5. [Results and Discussion](#results)\n6. [Conclusion](#conclusion)"
        },
        {
            "cell_type": "markdown",
            "metadata": {},
            "source": "## 1. Introduction/Business Problem <a id='intro'></a>\n\nIn efforts to continuously encourage people to explore South Africa, my project will develop a dashboard that will display popular establishments located in the country\u2019s three capital cities: Bloemfontein, Cape Town, and Pretoria.\n\nThis dashboard can be useful to the following stakeholders:\n1. Locals\n2. Tourists\n3. The South African Department of Tourism\n\nBoth locals and tourists can use this dashboard as a source of content to plan their bucket-list experiences.\nThe Department of Tourism can use the dashboard to know which establishments should be featured in the Sho\u2019t Left and Discover South Africa campaigns that they run.\n\nThe following details of the popular establishments will be indicated: the establishment\u2019s name, the type of establishment, and the street address.\n"
        },
        {
            "cell_type": "markdown",
            "metadata": {},
            "source": "## 2. Data <a id='data'></a>\n\nThis project will use the Foursquare location data as it contains names of the popular establishments, including, but not limited to, the category, address and geographical coordinates (longitude and latitude), city, state and country.\n\nUsing my existing Foursquare developer account credentials, of which I have already obtained the access token, I will be accessing each of the three South African capital city's data.\n"
        },
        {
            "cell_type": "markdown",
            "metadata": {},
            "source": "## 3. Methodology <a id='methodology'></a>\nThis project will implement the following three steps:\n\n**A. Data collection**\n\nData indicating popular establishments in the three capital cities (Pretoria, Bloemfontein, and Cape Town) of South Africa were downloaded from the Foursquare location data (as explained above in the <a href=\"#data\">Data</a> section).\n\n**B. Pre-processing**\n\nTo ensure that quality data is used in the downstream analysis, all data from the three capital cities will be subjected to this cleaning processes will entails the following two steps:\n\n   1. check and remove records with missing establishment name.\n   2. check and remove records with missing category.\n   3. replace missing addresses.\n   4. filter data by selecting columns of interests only.\n    \n**C. Analysis**\n\nThis step includes the following:\n    \n   1. visualize the popular establishments in each capital city.\n   2. find the total number of unique categories in each capital city.\n   3. list the unique categories and their corresponding total number of popular establishments.\n   4. create a dashboard to visualize the popular establishments in each capital city."
        },
        {
            "cell_type": "markdown",
            "metadata": {},
            "source": "## Data collection\n\nData indicating popular establishments in the three capital cities (Pretoria, Bloemfontein, and Cape Town) of South Africa were downloaded from the Foursquare location data (as explained above in the <a href=\"#data\">Data</a> section)."
        },
        {
            "cell_type": "code",
            "execution_count": null,
            "metadata": {},
            "outputs": [],
            "source": ""
        }
    ],
    "metadata": {
        "kernelspec": {
            "display_name": "Python 3.7",
            "language": "python",
            "name": "python3"
        },
        "language_info": {
            "codemirror_mode": {
                "name": "ipython",
                "version": 3
            },
            "file_extension": ".py",
            "mimetype": "text/x-python",
            "name": "python",
            "nbconvert_exporter": "python",
            "pygments_lexer": "ipython3",
            "version": "3.7.10"
        }
    },
    "nbformat": 4,
    "nbformat_minor": 1
}