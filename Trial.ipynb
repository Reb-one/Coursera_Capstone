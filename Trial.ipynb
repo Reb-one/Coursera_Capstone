{
    "cells": [
        {
            "cell_type": "markdown",
            "metadata": {
                "collapsed": true
            },
            "source": "# Capstone Project - Week 5\n### Applied Data Science Specialization"
        },
        {
            "cell_type": "markdown",
            "metadata": {
                "collapsed": true
            },
            "source": "## A Dashboard of the Popular Establishments In South Africa\u2019s Three Capital Cities\n\n\n## Table of Contents\n1. [Introduction/Business Problem](#intro)\n2. [Data](#data)\n3. [Methodology](#methodology)\n4. [Analysis](#analysis)\n5. [Results and Discussion](#results)\n6. [Conclusion](#conclusion)\n<hr>\n\n<a id='intro'></a>\n## 1. Introduction/Business Problem\n\nIn efforts to continuously encourage people to explore South Africa, my project will develop a dashboard that will display popular establishments located in the country\u2019s three capital cities: Bloemfontein, Cape Town, and Pretoria.\n\nThis dashboard can be useful to the following stakeholders:\n1. Locals\n2. Tourists\n3. The South African Department of Tourism\n\nBoth locals and tourists can use this dashboard as a source of content to plan their bucket-list experiences.\nThe Department of Tourism can use the dashboard to know which establishments should be featured in the Sho\u2019t Left and Discover South Africa campaigns that they run.\n\nThe following details of the popular establishments will be indicated: the establishment\u2019s name, the type of establishment, and the street address.\n"
        },
        {
            "cell_type": "code",
            "execution_count": null,
            "metadata": {},
            "outputs": [],
            "source": ""
        }
    ],
    "metadata": {
        "kernelspec": {
            "display_name": "Python 3.7",
            "language": "python",
            "name": "python3"
        },
        "language_info": {
            "codemirror_mode": {
                "name": "ipython",
                "version": 3
            },
            "file_extension": ".py",
            "mimetype": "text/x-python",
            "name": "python",
            "nbconvert_exporter": "python",
            "pygments_lexer": "ipython3",
            "version": "3.7.10"
        }
    },
    "nbformat": 4,
    "nbformat_minor": 1
}